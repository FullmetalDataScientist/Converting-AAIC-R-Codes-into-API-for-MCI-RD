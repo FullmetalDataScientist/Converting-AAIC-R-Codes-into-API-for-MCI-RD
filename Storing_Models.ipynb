{
  "nbformat": 4,
  "nbformat_minor": 0,
  "metadata": {
    "colab": {
      "name": "Storing_Models.ipynb",
      "provenance": [],
      "authorship_tag": "ABX9TyNAAMA+zVi3Agut98m36bUW"
    },
    "kernelspec": {
      "name": "ir",
      "display_name": "R"
    },
    "language_info": {
      "name": "R"
    }
  },
  "cells": [
    {
      "cell_type": "code",
      "execution_count": null,
      "metadata": {
        "id": "cPhdnfh2Wbsk"
      },
      "outputs": [],
      "source": [
        "#Loading datasets\n",
        "data <- read.csv('Train+Week1&2.csv')\n",
        "real <- read.csv('Week3.csv')\n",
        "\n",
        "#Getting unique user IDs and creating empty lists to be used to store models\n",
        "id <- unique(data$subscriber_ecid)\n",
        "TModel <- list()\n",
        "AModel <- list()\n",
        "SModel <- list()"
      ]
    },
    {
      "cell_type": "code",
      "source": [
        "require(forecast)\n",
        "\n",
        "c <- 1\n",
        "for (i in id) {\n",
        "  data_ts <- ts(data$data_usage_volume[data$subscriber_ecid == i]) #Converting the raw data into time-series\n",
        "  TModel[[c]] <- tbats(data_ts) #Training TBATS model for each user ID\n",
        "  AModel[[c]] <- auto.arima(data_ts) #Training ARIMA model for each user ID\n",
        "  SModel[[c]] <- ses(data_ts) #Training SES model for each user ID\n",
        "  c <- c+1\n",
        "}\n",
        "\n",
        "#Saving the models\n",
        "saveRDS(TModel,file=TModel.RData)\n",
        "saveRDS(AModel,file=AModel.RData)\n",
        "saveRDS(SModel,file=SModel.RData)"
      ],
      "metadata": {
        "id": "D01zIFeIWrhH"
      },
      "execution_count": null,
      "outputs": []
    }
  ]
}