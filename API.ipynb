{
  "nbformat": 4,
  "nbformat_minor": 0,
  "metadata": {
    "colab": {
      "name": "API.ipynb",
      "provenance": [],
      "authorship_tag": "ABX9TyNRgRJ6/O4LzqnxDbCldqeU"
    },
    "kernelspec": {
      "name": "ir",
      "display_name": "R"
    },
    "language_info": {
      "name": "R"
    }
  },
  "cells": [
    {
      "cell_type": "code",
      "execution_count": null,
      "metadata": {
        "id": "zz-YjhadM_5M"
      },
      "outputs": [],
      "source": [
        "install.packages('forecast', repos='http://cran.rstudio.com/')"
      ]
    },
    {
      "cell_type": "code",
      "source": [
        "#Loading datasets and pre-trained models:\n",
        "\n",
        "data <- read.csv('Train+Week1&2.csv')\n",
        "real <- read.csv('Week3.csv')\n",
        "\n",
        "TModel <- readRDS('TModel.RData') #Pre-trained TBATS Model (94 different models for each user ID)\n",
        "AModel <- readRDS('AModel.RData') #Pre-trained ARIMA Model (94 different models for each user ID)\n",
        "SModel <- readRDS('SModel.RData') #Pre-trained SES Model (94 different models for each user ID)\n",
        "\n",
        "id <- unique(data$subscriber_ecid) #Getting unique user IDs\n",
        "\n",
        "#Assigning integer numbers 1:94 to each user ID\n",
        "IDIndex <- data.frame()\n",
        "c <- 1\n",
        "for (i in id) {\n",
        "  IDIndex[c,1] <- i\n",
        "  IDIndex[c,2] <- c\n",
        "  c <- c+1\n",
        "}\n",
        "colnames(IDIndex) <- c(\"UserID\", \"Index\")"
      ],
      "metadata": {
        "id": "x06Xxcd2N0ZF"
      },
      "execution_count": null,
      "outputs": []
    },
    {
      "cell_type": "code",
      "source": [
        "#Single User Prediction API Based on Used ID\n",
        "\n",
        "#* @get /Pred\n",
        "Pred <- function(ID){\n",
        "  id <- IDIndex$Index[IDIndex$UserID==ID] #Identifying the index of the given User ID\n",
        "  pred_tbats <- forecast(TModel[[id]], h = 10) #Getting TBATS predictions of the next 10 days for the specified user \"ID\"\n",
        "  pred_arima <- forecast(AModel[[id]], h = 10) #Getting ARIMA predictions of the next 10 days for the specified user \"ID\"\n",
        "  pred_ses <- forecast(SModel[[id]], h = 10)   #Getting SES predictions of the next 10 days for the specified user \"ID\"\n",
        "  r <- real$data_usage_volume[real$subscriber_ecid==ID] #Actual values of the next 10 days\n",
        "  pred <- cbind(r, pred_tbats$mean, pred_arima$mean, pred_ses$mean) #Binding the predicted and actual values\n",
        "  colnames(pred) <- c(\"Actual\", \"TBATS\", \"ARIMA\", \"SES\") #Changing the column names\n",
        "  pred #Printing the combined dataframe\n",
        "}"
      ],
      "metadata": {
        "id": "otXOx7u-TX2k"
      },
      "execution_count": null,
      "outputs": []
    },
    {
      "cell_type": "code",
      "source": [
        "#Single User Plotting API Based on User ID\n",
        "\n",
        "#* @serializer png\n",
        "#* @get /plot\n",
        "UserPlot <- function(ID){\n",
        "  UserUsage <-  data$data_usage_volume[data$subscriber_ecid==ID] #Selecting target values of the specified user ID\n",
        "  \n",
        "  #Plotting the main time-series\n",
        "  plot(UserUsage,\n",
        "       main = \"Daily Internet Usage\",\n",
        "       xlab = \"Days\",\n",
        "       ylab = \"Volume\")\n",
        "  \n",
        "  UserMean <-  mean(UserUsage) #Average internet usage of the specified user ID\n",
        "  UserSD <- sd(UserUsage) #Standard Deviation of the target for the specified user ID\n",
        "  TotMean <- mean(data$data_usage_volume) #Average internet usage of the all users\n",
        "  \n",
        "  par(xpd=FALSE)\n",
        "  abline(h=TotMean, pch=18, col=\"blue\", lty=2) #Adding the \"Total Mean\" line to the plot\n",
        "  abline(h=UserMean, pch=18, col=\"green\", lty=2) #Adding the \"User Mean\" line to the plot\n",
        "  \n",
        "  #Creating a \"Legend\" for the plot\n",
        "  par(xpd=TRUE)\n",
        "  legend(\"bottomleft\", inset=c(0,-0.5), legend=c(\"Total Average\", \"User Average\"), col=c(\"blue\", \"green\"), lty=2, cex=0.8)\n",
        "  \n",
        "  #Simple Anomaly Detection using Gaussian Distribution (Values outside of the 6-sigma boundary (only the positive side))\n",
        "  ind <- c()\n",
        "  for (i in 1:length(UserUsage)) {\n",
        "    if (UserUsage[i] > UserMean + 3*UserSD) ind[i]<-i #Getting the index of abnormal values\n",
        "  }\n",
        "  ind <- ind[!is.na(ind)] #Removing NAs from the vector\n",
        "\n",
        "  points(ind, UserUsage[ind],col=\"red\") #Changing the color of abnormal points into \"red\"\n",
        "}"
      ],
      "metadata": {
        "id": "Qimql2Qkrt3g"
      },
      "execution_count": null,
      "outputs": []
    }
  ]
}