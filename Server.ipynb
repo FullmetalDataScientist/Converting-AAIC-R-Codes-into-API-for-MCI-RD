{
  "nbformat": 4,
  "nbformat_minor": 0,
  "metadata": {
    "colab": {
      "name": "Server.ipynb",
      "provenance": [],
      "authorship_tag": "ABX9TyOccADpst24oYtSYHbcqdnA"
    },
    "kernelspec": {
      "name": "ir",
      "display_name": "R"
    },
    "language_info": {
      "name": "R"
    }
  },
  "cells": [
    {
      "cell_type": "code",
      "execution_count": null,
      "metadata": {
        "id": "kgnmWrS4X3pX"
      },
      "outputs": [],
      "source": [
        "require(plumber) #Package used to create the API\n",
        "\n",
        "User_Plot <- plumb(\"API.R\") #Calling API script\n",
        "User_Plot$run(host = '0.0.0.0', port = 8000) #specifying desired IP and port"
      ]
    }
  ]
}